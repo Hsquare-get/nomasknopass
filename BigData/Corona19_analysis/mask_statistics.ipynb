{
 "cells": [
  {
   "cell_type": "code",
   "execution_count": 1,
   "metadata": {},
   "outputs": [
    {
     "name": "stdout",
     "output_type": "stream",
     "text": [
      "['2020-09-01', '2020-09-02', '2020-09-03', '2020-09-04', '2020-09-05', '2020-09-06', '2020-09-07', '2020-09-08', '2020-09-09', '2020-09-10', '2020-09-11', '2020-09-12', '2020-09-13', '2020-09-14', '2020-09-15', '2020-09-16', '2020-09-17', '2020-09-18', '2020-09-19', '2020-09-20', '2020-09-21', '2020-09-22', '2020-09-23', '2020-09-24', '2020-09-25', '2020-09-26', '2020-09-27', '2020-09-28', '2020-09-29', '2020-09-30', '2020-10-01', '2020-10-02', '2020-10-03', '2020-10-04', '2020-10-05', '2020-10-06', '2020-10-07', '2020-10-08', '2020-10-09', '2020-10-10', '2020-10-11', '2020-10-12', '2020-10-13', '2020-10-14', '2020-10-15', '2020-10-16', '2020-10-17', '2020-10-18', '2020-10-19', '2020-10-20', '2020-10-21', '2020-10-22', '2020-10-23', '2020-10-24', '2020-10-25', '2020-10-26', '2020-10-27', '2020-10-28', '2020-10-29', '2020-10-30', '2020-10-31', '2020-11-01', '2020-11-02', '2020-11-03', '2020-11-04', '2020-11-05', '2020-11-06', '2020-11-07', '2020-11-08', '2020-11-09', '2020-11-10', '2020-11-11', '2020-11-12', '2020-11-13', '2020-11-14', '2020-11-15', '2020-11-16', '2020-11-17', '2020-11-18', '2020-11-19', '2020-11-20', '2020-11-21', '2020-11-22', '2020-11-23', '2020-11-24', '2020-11-25', '2020-11-26', '2020-11-27', '2020-11-28', '2020-11-29', '2020-11-30', '2020-12-01', '2020-12-02', '2020-12-03', '2020-12-04', '2020-12-05', '2020-12-06', '2020-12-07', '2020-12-08', '2020-12-09', '2020-12-10']\n"
     ]
    }
   ],
   "source": [
    "from selenium import webdriver\n",
    "import urllib.request\n",
    "from bs4 import BeautifulSoup\n",
    "import pandas as pd\n",
    "import time\n",
    "\n",
    "ts_ms = pd.date_range(start = '2020-09-01', end = None, periods = 101, freq = 'D')\n",
    "ts_list = list(map(str, list(ts_ms)))\n",
    "\n",
    "def str_slicing(x):\n",
    "    x = x[:10]\n",
    "    return x\n",
    "\n",
    "date_list = list(map(str_slicing, ts_list))\n",
    "print(date_list)"
   ]
  },
  {
   "cell_type": "code",
   "execution_count": 2,
   "metadata": {},
   "outputs": [
    {
     "name": "stderr",
     "output_type": "stream",
     "text": [
      "C:\\Users\\LimSH\\anaconda3\\envs\\pydatavenv\\lib\\site-packages\\ipykernel_launcher.py:14: DeprecationWarning: use options instead of chrome_options\n",
      "  \n"
     ]
    }
   ],
   "source": [
    "##  AWS에서 실행할 경우  ##\n",
    "# chrome_options = webdriver.ChromeOptions()\n",
    "# chrome_options.add_argument('--headless')\n",
    "# chrome_options.add_argument('--no-sandbox')\n",
    "# chrome_options.add_argument('--disable-dev-shm-usage')\n",
    "\n",
    "# driver = webdriver.Chrome('/home/lab01/chromedriver', options=chrome_options)\n",
    "# driver.implicitly_wait(3)\n",
    "# driver.get(\"https://www.safetyreport.go.kr/#introduction/safeSingoStatistics\")\n",
    "\n",
    "\n",
    "##  local에서 실행할 경우  ##\n",
    "options = webdriver.ChromeOptions()\n",
    "driver = webdriver.Chrome('/Users/LimSH/Downloads/chromedriver_win32/chromedriver.exe', chrome_options=options)\n",
    "driver.implicitly_wait(3)\n",
    "driver.get(\"https://www.safetyreport.go.kr/#introduction/safeSingoStatistics\")"
   ]
  },
  {
   "cell_type": "code",
   "execution_count": 3,
   "metadata": {},
   "outputs": [
    {
     "name": "stdout",
     "output_type": "stream",
     "text": [
      "2020-09-01 : 0\n",
      "2020-09-02 : 0\n",
      "2020-09-03 : 32\n",
      "2020-09-04 : 143\n",
      "2020-09-05 : 118\n",
      "2020-09-06 : 82\n",
      "2020-09-07 : 64\n",
      "2020-09-08 : 117\n",
      "2020-09-09 : 122\n",
      "2020-09-10 : 125\n",
      "2020-09-11 : 139\n",
      "2020-09-12 : 143\n",
      "2020-09-13 : 126\n",
      "2020-09-14 : 117\n",
      "2020-09-15 : 116\n",
      "2020-09-16 : 148\n",
      "2020-09-17 : 112\n",
      "2020-09-18 : 114\n",
      "2020-09-19 : 96\n",
      "2020-09-20 : 93\n",
      "2020-09-21 : 98\n",
      "2020-09-22 : 93\n",
      "2020-09-23 : 79\n",
      "2020-09-24 : 91\n",
      "2020-09-25 : 75\n",
      "2020-09-26 : 95\n",
      "2020-09-27 : 85\n",
      "2020-09-28 : 103\n",
      "2020-09-29 : 157\n",
      "2020-09-30 : 102\n",
      "2020-10-01 : 61\n",
      "2020-10-02 : 110\n",
      "2020-10-03 : 119\n",
      "2020-10-04 : 97\n",
      "2020-10-05 : 87\n",
      "2020-10-06 : 71\n",
      "2020-10-07 : 119\n",
      "2020-10-08 : 102\n",
      "2020-10-09 : 108\n",
      "2020-10-10 : 76\n",
      "2020-10-11 : 87\n",
      "2020-10-12 : 84\n",
      "2020-10-13 : 91\n",
      "2020-10-14 : 139\n",
      "2020-10-15 : 127\n",
      "2020-10-16 : 117\n",
      "2020-10-17 : 110\n",
      "2020-10-18 : 104\n",
      "2020-10-19 : 101\n",
      "2020-10-20 : 104\n",
      "2020-10-21 : 82\n",
      "2020-10-22 : 95\n",
      "2020-10-23 : 85\n",
      "2020-10-24 : 60\n",
      "2020-10-25 : 73\n",
      "2020-10-26 : 83\n",
      "2020-10-27 : 89\n",
      "2020-10-28 : 91\n",
      "2020-10-29 : 84\n",
      "2020-10-30 : 86\n",
      "2020-10-31 : 95\n",
      "2020-11-01 : 75\n",
      "2020-11-02 : 67\n",
      "2020-11-03 : 78\n",
      "2020-11-04 : 76\n",
      "2020-11-05 : 65\n",
      "2020-11-06 : 91\n",
      "2020-11-07 : 110\n",
      "2020-11-08 : 68\n",
      "2020-11-09 : 138\n",
      "2020-11-10 : 104\n",
      "2020-11-11 : 113\n",
      "2020-11-12 : 158\n",
      "2020-11-13 : 326\n",
      "2020-11-14 : 312\n",
      "2020-11-15 : 277\n",
      "2020-11-16 : 325\n",
      "2020-11-17 : 297\n",
      "2020-11-18 : 338\n",
      "2020-11-19 : 289\n",
      "2020-11-20 : 324\n",
      "2020-11-21 : 251\n",
      "2020-11-22 : 205\n",
      "2020-11-23 : 281\n",
      "2020-11-24 : 318\n",
      "2020-11-25 : 369\n",
      "2020-11-26 : 403\n",
      "2020-11-27 : 324\n",
      "2020-11-28 : 276\n",
      "2020-11-29 : 227\n",
      "2020-11-30 : 276\n",
      "2020-12-01 : 293\n",
      "2020-12-02 : 308\n",
      "2020-12-03 : 254\n",
      "2020-12-04 : 282\n",
      "2020-12-05 : 239\n",
      "2020-12-06 : 221\n",
      "2020-12-07 : 284\n",
      "2020-12-08 : 219\n",
      "2020-12-09 : 263\n",
      "2020-12-10 : 259\n"
     ]
    }
   ],
   "source": [
    "i = 0\n",
    "num_list = []\n",
    "for date in date_list:\n",
    "    if i == 0:\n",
    "        i += 1\n",
    "        target = driver.find_element_by_css_selector('#seachDateType')\n",
    "        target.click()\n",
    "        category = driver.find_element_by_css_selector('#seachDateType > option:nth-child(2)')\n",
    "        category.click()\n",
    "        time.sleep(2)\n",
    "    \n",
    "    start_date_element = driver.find_element_by_css_selector('#C_FRM_DATE')\n",
    "    start_date_element.clear()\n",
    "    start_date_element.send_keys(date)\n",
    "    time.sleep(1)\n",
    "    end_date_element = driver.find_element_by_css_selector('#C_TO_DATE')\n",
    "    end_date_element.clear()\n",
    "    end_date_element.send_keys(date)\n",
    "    time.sleep(1)\n",
    "    search_element = driver.find_element_by_css_selector('#form > fieldset > div > button')\n",
    "    search_element.click()\n",
    "    time.sleep(1)\n",
    "\n",
    "    num = driver.find_element_by_css_selector('#grid > tbody > tr:nth-child(23) > td:nth-child(2) > a')\n",
    "    print(date, ':', num.text)\n",
    "    num_list.append(num.text)\n",
    "    time.sleep(2)"
   ]
  },
  {
   "cell_type": "code",
   "execution_count": 4,
   "metadata": {},
   "outputs": [
    {
     "name": "stdout",
     "output_type": "stream",
     "text": [
      "101\n",
      "[0, 0, 32, 143, 118, 82, 64, 117, 122, 125, 139, 143, 126, 117, 116, 148, 112, 114, 96, 93, 98, 93, 79, 91, 75, 95, 85, 103, 157, 102, 61, 110, 119, 97, 87, 71, 119, 102, 108, 76, 87, 84, 91, 139, 127, 117, 110, 104, 101, 104, 82, 95, 85, 60, 73, 83, 89, 91, 84, 86, 95, 75, 67, 78, 76, 65, 91, 110, 68, 138, 104, 113, 158, 326, 312, 277, 325, 297, 338, 289, 324, 251, 205, 281, 318, 369, 403, 324, 276, 227, 276, 293, 308, 254, 282, 239, 221, 284, 219, 263, 259]\n"
     ]
    }
   ],
   "source": [
    "num_list = list(map(int, list(num_list)))\n",
    "print(len(num_list))\n",
    "print(num_list)"
   ]
  },
  {
   "cell_type": "code",
   "execution_count": 5,
   "metadata": {},
   "outputs": [
    {
     "data": {
      "text/html": [
       "<div>\n",
       "<style scoped>\n",
       "    .dataframe tbody tr th:only-of-type {\n",
       "        vertical-align: middle;\n",
       "    }\n",
       "\n",
       "    .dataframe tbody tr th {\n",
       "        vertical-align: top;\n",
       "    }\n",
       "\n",
       "    .dataframe thead th {\n",
       "        text-align: right;\n",
       "    }\n",
       "</style>\n",
       "<table border=\"1\" class=\"dataframe\">\n",
       "  <thead>\n",
       "    <tr style=\"text-align: right;\">\n",
       "      <th></th>\n",
       "      <th>마스크 미착용 신고건수</th>\n",
       "    </tr>\n",
       "  </thead>\n",
       "  <tbody>\n",
       "    <tr>\n",
       "      <th>2020-09-01</th>\n",
       "      <td>0</td>\n",
       "    </tr>\n",
       "    <tr>\n",
       "      <th>2020-09-02</th>\n",
       "      <td>0</td>\n",
       "    </tr>\n",
       "    <tr>\n",
       "      <th>2020-09-03</th>\n",
       "      <td>32</td>\n",
       "    </tr>\n",
       "    <tr>\n",
       "      <th>2020-09-04</th>\n",
       "      <td>143</td>\n",
       "    </tr>\n",
       "    <tr>\n",
       "      <th>2020-09-05</th>\n",
       "      <td>118</td>\n",
       "    </tr>\n",
       "    <tr>\n",
       "      <th>...</th>\n",
       "      <td>...</td>\n",
       "    </tr>\n",
       "    <tr>\n",
       "      <th>2020-12-06</th>\n",
       "      <td>221</td>\n",
       "    </tr>\n",
       "    <tr>\n",
       "      <th>2020-12-07</th>\n",
       "      <td>284</td>\n",
       "    </tr>\n",
       "    <tr>\n",
       "      <th>2020-12-08</th>\n",
       "      <td>219</td>\n",
       "    </tr>\n",
       "    <tr>\n",
       "      <th>2020-12-09</th>\n",
       "      <td>263</td>\n",
       "    </tr>\n",
       "    <tr>\n",
       "      <th>2020-12-10</th>\n",
       "      <td>259</td>\n",
       "    </tr>\n",
       "  </tbody>\n",
       "</table>\n",
       "<p>101 rows × 1 columns</p>\n",
       "</div>"
      ],
      "text/plain": [
       "            마스크 미착용 신고건수\n",
       "2020-09-01             0\n",
       "2020-09-02             0\n",
       "2020-09-03            32\n",
       "2020-09-04           143\n",
       "2020-09-05           118\n",
       "...                  ...\n",
       "2020-12-06           221\n",
       "2020-12-07           284\n",
       "2020-12-08           219\n",
       "2020-12-09           263\n",
       "2020-12-10           259\n",
       "\n",
       "[101 rows x 1 columns]"
      ]
     },
     "metadata": {},
     "output_type": "display_data"
    }
   ],
   "source": [
    "without_mask = pd.DataFrame(index = date_list, data = num_list)\n",
    "without_mask.columns = ['마스크 미착용 신고건수']\n",
    "display(without_mask)"
   ]
  },
  {
   "cell_type": "code",
   "execution_count": 6,
   "metadata": {},
   "outputs": [],
   "source": [
    "import matplotlib.pyplot as plt\n",
    "from matplotlib import font_manager, rc\n",
    "font_path = \"malgun.ttf\"\n",
    "font_name = font_manager.FontProperties(fname=font_path).get_name()\n",
    "rc('font', family=font_name)"
   ]
  },
  {
   "cell_type": "code",
   "execution_count": 13,
   "metadata": {},
   "outputs": [
    {
     "data": {
      "image/png": "[encoded data removed]",
      "text/plain": [
       "<Figure size 1080x360 with 1 Axes>"
      ]
     },
     "metadata": {
      "needs_background": "light"
     },
     "output_type": "display_data"
    }
   ],
   "source": [
    "from matplotlib import rcParams\n",
    "\n",
    "plt.figure(figsize=(15,5))\n",
    "plt.plot(without_mask.index, without_mask.values, color='green')\n",
    "#plt.plot(without_mask.index, without_mask.values, marker='o', markersize=5, color='green', markerfacecolor='yellow')\n",
    "\n",
    "plt.title('마스크 미착용 신고건수', size=25, color='olive', fontweight='bold')\n",
    "plt.xticks(without_mask.index, size=13)\n",
    "plt.yticks(size=13) \n",
    "plt.xlabel('기간', size=16, fontweight='bold', labelpad=13)\n",
    "plt.ylabel('신고건수', size=16, fontweight='bold', labelpad=13)\n",
    "plt.locator_params(axis='x', nbins=10)\n",
    "plt.tick_params(axis='x', direction='out', length=3, pad=10, bottom=True)\n",
    "plt.tick_params(axis='y', direction='out', length=3, pad=5, left=True)\n",
    "plt.xlim(without_mask.index[0], without_mask.index[-1])\n",
    "\n",
    "plt.show()"
   ]
  }
 ],
 "metadata": {
  "kernelspec": {
   "display_name": "pydatavenv",
   "language": "python",
   "name": "pydatavenv"
  },
  "language_info": {
   "codemirror_mode": {
    "name": "ipython",
    "version": 3
   },
   "file_extension": ".py",
   "mimetype": "text/x-python",
   "name": "python",
   "nbconvert_exporter": "python",
   "pygments_lexer": "ipython3",
   "version": "3.7.9"
  }
 },
 "nbformat": 4,
 "nbformat_minor": 4
}
