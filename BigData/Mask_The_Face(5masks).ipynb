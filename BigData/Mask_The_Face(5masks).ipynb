{
 "cells": [
  {
   "cell_type": "markdown",
   "metadata": {},
   "source": [
    "# Import Modules\n",
    "# Detector & Predictor"
   ]
  },
  {
   "cell_type": "code",
   "execution_count": 2,
   "metadata": {},
   "outputs": [],
   "source": [
    "import dlib\n",
    "from utils.aux_functions import *\n",
    "import argparse\n",
    "from matplotlib import pyplot as plt\n",
    "import cv2\n",
    "\n",
    "detector = dlib.get_frontal_face_detector() # 얼굴 좌표찾기 함수 (여러명도 가능)\n",
    "\n",
    "path_to_dlib_model = \"./dlib_models/shape_predictor_68_face_landmarks.dat\"\n",
    "if not os.path.exists(path_to_dlib_model):\n",
    "    download_dlib_model()\n",
    "    \n",
    "predictor = dlib.shape_predictor(path_to_dlib_model) # 얼굴 랜드마크 68개 점 찾기"
   ]
  },
  {
   "cell_type": "markdown",
   "metadata": {},
   "source": [
    "# Define Function(mask_the_face_correctly)"
   ]
  },
  {
   "cell_type": "code",
   "execution_count": 31,
   "metadata": {},
   "outputs": [],
   "source": [
    "def mask_the_face_correctly(face_image, mask_type):\n",
    "    \n",
    "    ##### 얼굴 좌표 찾기 #####\n",
    "    face_locations = detector(face_image, 1) # return rectangles 객체 (여러명 얼굴인식)\n",
    "    face_location = face_locations[0] # 1명만 얼굴인식\n",
    "    \n",
    "    \n",
    "    ##### 얼굴 랜드마크별 68개 좌표 찾기 #####\n",
    "    shape = predictor(face_image, face_location) # 68개 점 좌표\n",
    "    shape = face_utils.shape_to_np(shape)\n",
    "    face_landmarks = shape_to_landmarks(shape) # 얼굴 랜드마크별 68개의 점 좌표(groupby)\n",
    "    face_location = rect_to_bb(face_location) # rectangles 객체를 튜플로 변환\n",
    "\n",
    "    \n",
    "    ##### 마스크를 씌울 6개의 얼굴좌표, 얼굴각도 #####\n",
    "    six_points_on_face, angle = get_six_points(face_landmarks, face_image)  \n",
    "    \n",
    "    \n",
    "    ##### 어떤 마스크를 쓸것인지 선정 (정면사진임으로 얼굴각도 판단X) #####\n",
    "    cfg = read_cfg(config_filename=\"./masks/masks_metadata.cfg\", mask_type=mask_type, verbose=False)\n",
    "    mask_image = cv2.imread(cfg.template, cv2.IMREAD_UNCHANGED) # cv2.IMREAD_UNCHANGED : 투명도인 Alpha 채널을 포함하여 원본 그대로 읽는다\n",
    "    mask_dots = np.float32([cfg.mask_a, cfg.mask_b, cfg.mask_c, cfg.mask_f, cfg.mask_e, cfg.mask_d]) # 마스크 육각형 꼭지점 좌표\n",
    "    \n",
    "    \n",
    "    ##### 마스크 위치를 얼굴 위치(6개 좌표)와 동기화 #####\n",
    "    M, mask = cv2.findHomography(mask_dots, six_points_on_face)\n",
    "    w = face_image.shape[1] # 이미지 열 크기(가로)\n",
    "    h = face_image.shape[0] # 이미지 행 크기(세로)\n",
    "    dst_mask = cv2.warpPerspective(mask_image, M, (w, h))\n",
    "    dst_mask_points = cv2.perspectiveTransform(mask_dots.reshape(-1, 1, 2), M)\n",
    "    mask = dst_mask[:, :, 3]\n",
    "    \n",
    "    \n",
    "    ##### 얼굴에 마스크 합성 #####    \n",
    "    # Adjust Brightness\n",
    "    mask_brightness = get_avg_brightness(mask_image)\n",
    "    img_brightness = get_avg_brightness(face_image)\n",
    "    delta_b = 1 + (img_brightness - mask_brightness) / 255\n",
    "    dst_mask = change_brightness(dst_mask, delta_b)\n",
    "\n",
    "    # Adjust Saturation\n",
    "    mask_saturation = get_avg_saturation(mask_image)\n",
    "    img_saturation = get_avg_saturation(face_image)\n",
    "    delta_s = 1 - (img_saturation - mask_saturation) / 255\n",
    "    dst_mask = change_saturation(dst_mask, delta_s)\n",
    "\n",
    "    # Apply mask\n",
    "    mask_inv = cv2.bitwise_not(mask)\n",
    "    img_bg = cv2.bitwise_and(face_image, face_image, mask=mask_inv) # 얼굴이미지 마스크부분 배경제거(비트연산)\n",
    "    img_fg = cv2.bitwise_and(dst_mask, dst_mask, mask=mask) # 마스크 이외 배경제거(비트연산)\n",
    "    with_mask = cv2.add(img_bg, img_fg[:, :, 0:3])\n",
    "    \n",
    "    \n",
    "    return with_mask"
   ]
  },
  {
   "cell_type": "markdown",
   "metadata": {},
   "source": [
    "# Mask The Face Correctly in Directory"
   ]
  },
  {
   "cell_type": "code",
   "execution_count": 32,
   "metadata": {},
   "outputs": [
    {
     "name": "stdout",
     "output_type": "stream",
     "text": [
      "10000\n",
      "complete: ../Gray Scaled/new_without_mask/seed0000.png\n",
      "complete: ../Gray Scaled/new_without_mask/seed0500.png\n",
      "complete: ../Gray Scaled/new_without_mask/seed1000.png\n",
      "complete: ../Gray Scaled/new_without_mask/seed1500.png\n",
      "complete: ../Gray Scaled/new_without_mask/seed2000.png\n",
      "complete: ../Gray Scaled/new_without_mask/seed2500.png\n",
      "Error:  ../Gray Scaled/new_without_mask/seed2663.png\n",
      "complete: ../Gray Scaled/new_without_mask/seed3000.png\n",
      "complete: ../Gray Scaled/new_without_mask/seed3500.png\n",
      "complete: ../Gray Scaled/new_without_mask/seed4000.png\n",
      "complete: ../Gray Scaled/new_without_mask/seed4500.png\n",
      "complete: ../Gray Scaled/new_without_mask/seed5000.png\n",
      "complete: ../Gray Scaled/new_without_mask/seed5500.png\n",
      "complete: ../Gray Scaled/new_without_mask/seed6000.png\n",
      "complete: ../Gray Scaled/new_without_mask/seed6500.png\n",
      "complete: ../Gray Scaled/new_without_mask/seed7000.png\n",
      "complete: ../Gray Scaled/new_without_mask/seed7500.png\n",
      "complete: ../Gray Scaled/new_without_mask/seed8000.png\n",
      "complete: ../Gray Scaled/new_without_mask/seed8500.png\n",
      "complete: ../Gray Scaled/new_without_mask/seed9000.png\n",
      "complete: ../Gray Scaled/new_without_mask/seed9500.png\n"
     ]
    }
   ],
   "source": [
    "import glob\n",
    "\n",
    "img_path_list = glob.glob('../Gray Scaled/new_without_mask/*.png')\n",
    "print(len(img_path_list)) # 10000개\n",
    "\n",
    "mask_type_list= ['KF94_0', 'surgical', 'cloth', 'KF94_2', 'KN95']\n",
    "\n",
    "for i, img_path in enumerate(img_path_list): \n",
    "    original_image = cv2.imread(img_path)\n",
    "    face_image = original_image.copy()\n",
    "\n",
    "    try:\n",
    "        maskid = i // 2000 # i : 0~9999, maskid : 0,1,2,3,4\n",
    "        if maskid == 0:\n",
    "            with_mask = mask_the_face_correctly(face_image, mask_type_list[maskid])\n",
    "            new_img_path = './Gray Scaled/with_mask/with_mask_' + str(i) + '.jpg' \n",
    "            cv2.imwrite(new_img_path, with_mask)\n",
    "        elif maskid == 1:\n",
    "            with_mask = mask_the_face_correctly(face_image, mask_type_list[maskid])\n",
    "            new_img_path = './Gray Scaled/with_mask/with_mask_' + str(i) + '.jpg' \n",
    "            cv2.imwrite(new_img_path, with_mask)\n",
    "        elif maskid == 2:\n",
    "            with_mask = mask_the_face_correctly(face_image, mask_type_list[maskid])\n",
    "            new_img_path = './Gray Scaled/with_mask/with_mask_' + str(i) + '.jpg' \n",
    "            cv2.imwrite(new_img_path, with_mask)\n",
    "        elif maskid == 3:\n",
    "            with_mask = mask_the_face_correctly(face_image, mask_type_list[maskid])\n",
    "            new_img_path = './Gray Scaled/with_mask/with_mask_' + str(i) + '.jpg' \n",
    "            cv2.imwrite(new_img_path, with_mask)\n",
    "        elif maskid == 4:\n",
    "            with_mask = mask_the_face_correctly(face_image, mask_type_list[maskid])\n",
    "            new_img_path = './Gray Scaled/with_mask/with_mask_' + str(i) + '.jpg' \n",
    "            cv2.imwrite(new_img_path, with_mask)\n",
    "        \n",
    "\n",
    "        if i % 500 == 0:\n",
    "            print('complete:', img_path)\n",
    "            \n",
    "    # 모든 예외의 에러 메시지를 출력할 때는 Exception을 사용\n",
    "    except Exception as e:\n",
    "        print('Error:', e, img_path) # ../Gray Scaled Classification/with_mask/with_mask_2663.jpg 오류(제거)"
   ]
  },
  {
   "cell_type": "markdown",
   "metadata": {},
   "source": [
    "# Define Function(mask_the_face_incorrectly)"
   ]
  },
  {
   "cell_type": "code",
   "execution_count": 9,
   "metadata": {},
   "outputs": [],
   "source": [
    "def mask_the_face_incorrectly(face_image, mask_type):\n",
    "    \n",
    "    ##### 얼굴 좌표 찾기 #####\n",
    "    face_locations = detector(face_image, 1) # return rectangles 객체 (여러명 얼굴인식)\n",
    "    face_location = face_locations[0] # 1명만 얼굴인식\n",
    "    \n",
    "    \n",
    "    ##### 얼굴 랜드마크별 68개 좌표 찾기 #####\n",
    "    shape = predictor(face_image, face_location) # 68개 점 좌표\n",
    "    shape = face_utils.shape_to_np(shape)\n",
    "    face_landmarks = shape_to_landmarks(shape) # 얼굴 랜드마크별 68개의 점 좌표(groupby)\n",
    "    face_location = rect_to_bb(face_location) # rectangles 객체를 튜플로 변환\n",
    "\n",
    "    \n",
    "    ##### 마스크를 씌울 6개의 얼굴좌표(코스크), 얼굴각도 #####\n",
    "    six_points_on_face, angle = get_six_points(face_landmarks, face_image)  \n",
    "    \n",
    "    six_points_on_face_around = np.around(six_points_on_face)\n",
    "    \n",
    "    face_a = six_points_on_face_around[0]\n",
    "    face_b = six_points_on_face_around[1]\n",
    "    face_c = six_points_on_face_around[2]\n",
    "    face_f = six_points_on_face_around[3]\n",
    "    face_e = six_points_on_face_around[4]\n",
    "    face_d = six_points_on_face_around[5]\n",
    "\n",
    "    a = (face_a[0]+face_d[0])/2\n",
    "    b = (face_a[1]+face_d[1])/2.1\n",
    "    face_a_2 = np.array([a,b])\n",
    "\n",
    "    a = (face_b[0]+face_e[0])/2\n",
    "    b = (face_b[1]+face_e[1])/2.1\n",
    "    face_b_2 = np.array([a,b])\n",
    "\n",
    "    a = (face_c[0]+face_f[0])/2\n",
    "    b = (face_c[1]+face_f[1])/2.1\n",
    "    face_c_2 = np.array([a,b])\n",
    "    \n",
    "    six_points_on_face = np.float32([face_a_2, face_b_2, face_c_2, face_f, face_e, face_d])\n",
    "    \n",
    "    \n",
    "    ##### 어떤 마스크를 쓸것인지 선정 (정면사진임으로 얼굴각도 판단X) #####\n",
    "    cfg = read_cfg(config_filename=\"./masks/masks_metadata.cfg\", mask_type=mask_type, verbose=False)\n",
    "    mask_image = cv2.imread(cfg.template, cv2.IMREAD_UNCHANGED) # cv2.IMREAD_UNCHANGED : 투명도인 Alpha 채널을 포함하여 원본 그대로 읽는다\n",
    "    mask_dots = np.float32([cfg.mask_a, cfg.mask_b, cfg.mask_c, cfg.mask_f, cfg.mask_e, cfg.mask_d]) # 마스크 육각형 꼭지점 좌표\n",
    "    \n",
    "    \n",
    "    ##### 마스크 위치를 얼굴 위치(6개 좌표)와 동기화 #####\n",
    "    M, mask = cv2.findHomography(mask_dots, six_points_on_face)\n",
    "    w = face_image.shape[1] # 이미지 열 크기(가로)\n",
    "    h = face_image.shape[0] # 이미지 행 크기(세로)\n",
    "    dst_mask = cv2.warpPerspective(mask_image, M, (w, h))\n",
    "    dst_mask_points = cv2.perspectiveTransform(mask_dots.reshape(-1, 1, 2), M)\n",
    "    mask = dst_mask[:, :, 3]\n",
    "    \n",
    "    \n",
    "    ##### 얼굴에 마스크 합성 #####    \n",
    "    # Adjust Brightness\n",
    "    mask_brightness = get_avg_brightness(mask_image)\n",
    "    img_brightness = get_avg_brightness(face_image)\n",
    "    delta_b = 1 + (img_brightness - mask_brightness) / 255\n",
    "    dst_mask = change_brightness(dst_mask, delta_b)\n",
    "\n",
    "    # Adjust Saturation\n",
    "    mask_saturation = get_avg_saturation(mask_image)\n",
    "    img_saturation = get_avg_saturation(face_image)\n",
    "    delta_s = 1 - (img_saturation - mask_saturation) / 255\n",
    "    dst_mask = change_saturation(dst_mask, delta_s)\n",
    "\n",
    "    # Apply mask\n",
    "    mask_inv = cv2.bitwise_not(mask)\n",
    "    img_bg = cv2.bitwise_and(face_image, face_image, mask=mask_inv) # 얼굴이미지 마스크부분 배경제거(비트연산)\n",
    "    img_fg = cv2.bitwise_and(dst_mask, dst_mask, mask=mask) # 마스크 이외 배경제거(비트연산)\n",
    "    without_mask = cv2.add(img_bg, img_fg[:, :, 0:3])\n",
    "    \n",
    "    \n",
    "    return without_mask"
   ]
  },
  {
   "cell_type": "markdown",
   "metadata": {},
   "source": [
    "# Mask The Face Incorrectly In Directory"
   ]
  },
  {
   "cell_type": "code",
   "execution_count": 30,
   "metadata": {},
   "outputs": [
    {
     "name": "stdout",
     "output_type": "stream",
     "text": [
      "10000\n",
      "complete: ../Gray Scaled/new_without_mask/seed4000.png\n",
      "complete: ../Gray Scaled/new_without_mask/seed4500.png\n",
      "complete: ../Gray Scaled/new_without_mask/seed5000.png\n",
      "complete: ../Gray Scaled/new_without_mask/seed5500.png\n",
      "complete: ../Gray Scaled/new_without_mask/seed6000.png\n",
      "complete: ../Gray Scaled/new_without_mask/seed6500.png\n",
      "complete: ../Gray Scaled/new_without_mask/seed7000.png\n",
      "complete: ../Gray Scaled/new_without_mask/seed7500.png\n",
      "complete: ../Gray Scaled/new_without_mask/seed8000.png\n",
      "complete: ../Gray Scaled/new_without_mask/seed8500.png\n",
      "complete: ../Gray Scaled/new_without_mask/seed9000.png\n",
      "complete: ../Gray Scaled/new_without_mask/seed9500.png\n"
     ]
    }
   ],
   "source": [
    "import glob\n",
    "\n",
    "img_path_list = glob.glob('../Gray Scaled/new_without_mask/*.png')\n",
    "print(len(img_path_list)) # 10000개\n",
    "\n",
    "mask_type_list= ['KF94_0', 'surgical', 'cloth', 'KF94_2', 'KN95']\n",
    "\n",
    "for i, img_path in enumerate(img_path_list): \n",
    "    original_image = cv2.imread(img_path)\n",
    "    face_image = original_image.copy()\n",
    "\n",
    "    new_img_path = './Gray Scaled/without_mask/without_mask_' + str(i) + '.jpg'\n",
    "    \n",
    "    # 0~3999 맨얼굴\n",
    "    if i < 4000:\n",
    "        cv2.imwrite(new_img_path, face_image)\n",
    "        continue\n",
    "        \n",
    "    # 마스크별로 코스크 합성\n",
    "    else:\n",
    "        try:\n",
    "            new_img_path = './Gray Scaled/without_mask/without_mask_' + str(i) + '.jpg'\n",
    "            if 4000 <= i <= 5199:\n",
    "                without_mask = mask_the_face_incorrectly(face_image, mask_type_list[0])\n",
    "                cv2.imwrite(new_img_path, without_mask)\n",
    "            elif 5200 <= i <= 6399:\n",
    "                without_mask = mask_the_face_incorrectly(face_image, mask_type_list[1])\n",
    "                cv2.imwrite(new_img_path, without_mask)\n",
    "            elif 6400 <= i <= 7599:\n",
    "                without_mask = mask_the_face_incorrectly(face_image, mask_type_list[2])\n",
    "                cv2.imwrite(new_img_path, without_mask)\n",
    "            elif 7600 <= i <= 8799:\n",
    "                without_mask = mask_the_face_incorrectly(face_image, mask_type_list[3])\n",
    "                cv2.imwrite(new_img_path, without_mask)\n",
    "            elif 8800 <= i <= 9999:\n",
    "                without_mask = mask_the_face_incorrectly(face_image, mask_type_list[4])\n",
    "                cv2.imwrite(new_img_path, without_mask)\n",
    "            \n",
    "        # 모든 예외의 에러 메시지를 출력할 때는 Exception을 사용\n",
    "        except Exception as e:\n",
    "            print('Error:', e, img_path)\n",
    "            \n",
    "        if i % 500 == 0:\n",
    "            print('complete:', img_path)"
   ]
  },
  {
   "cell_type": "markdown",
   "metadata": {},
   "source": [
    "# Load Mask Metadata"
   ]
  },
  {
   "cell_type": "code",
   "execution_count": 14,
   "metadata": {},
   "outputs": [],
   "source": [
    "def getMaskDots(mask_type):\n",
    "    ##### 선정된 마스크 6개 좌표 불러오기 #####\n",
    "    cfg = read_cfg(config_filename=\"./masks/masks_metadata.cfg\", mask_type=mask_type, verbose=False)\n",
    "    mask_image = cv2.imread(cfg.template, cv2.IMREAD_UNCHANGED) # cv2.IMREAD_UNCHANGED : 투명도인 Alpha 채널을 포함하여 원본 그대로 읽는다\n",
    "    mask_dots = np.float32([cfg.mask_a, cfg.mask_b, cfg.mask_c, cfg.mask_f, cfg.mask_e, cfg.mask_d]) # 마스크 육각형 꼭지점 좌표\n",
    "    \n",
    "    return mask_dots"
   ]
  },
  {
   "cell_type": "code",
   "execution_count": 28,
   "metadata": {},
   "outputs": [
    {
     "name": "stdout",
     "output_type": "stream",
     "text": [
      "[[500.  85.]\n",
      " [290.   0.]\n",
      " [ 35.  85.]\n",
      " [ 80. 360.]\n",
      " [280. 440.]\n",
      " [500. 350.]]\n"
     ]
    },
    {
     "data": {
      "text/plain": [
       "<matplotlib.image.AxesImage at 0x7f9bb49bca90>"
      ]
     },
     "execution_count": 28,
     "metadata": {},
     "output_type": "execute_result"
    },
    {
     "data": {
      "image/png": "[encoded data removed]",
      "text/plain": [
       "<Figure size 432x288 with 1 Axes>"
      ]
     },
     "metadata": {
      "needs_background": "light"
     },
     "output_type": "display_data"
    }
   ],
   "source": [
    "img_mask = cv2.cvtColor(cv2.imread('./masks/templates/KF94_0.png'), cv2.COLOR_BGR2RGB)\n",
    "\n",
    "mask_dots_list = getMaskDots('KF94_0')\n",
    "print(mask_dots_list)\n",
    "\n",
    "color_red = (255,0,0)\n",
    "mask_dots = cv2.circle(img_mask, (365,70), 5, color_red, -1) # a\n",
    "mask_dots = cv2.circle(img_mask, (175,0), 5, color_red, -1) # b\n",
    "mask_dots = cv2.circle(img_mask, (0,70), 5, color_red, -1) # c\n",
    "mask_dots = cv2.circle(img_mask, (0,190), 5, color_red, -1) # f\n",
    "mask_dots = cv2.circle(img_mask, (175,285), 5, color_red, -1) # e\n",
    "mask_dots = cv2.circle(img_mask, (360,190), 5, color_red, -1) # d\n",
    "plt.imshow(mask_dots)"
   ]
  },
  {
   "cell_type": "code",
   "execution_count": null,
   "metadata": {},
   "outputs": [],
   "source": []
  }
 ],
 "metadata": {
  "kernelspec": {
   "display_name": "aswvenv",
   "language": "python",
   "name": "aswvenv"
  },
  "language_info": {
   "codemirror_mode": {
    "name": "ipython",
    "version": 3
   },
   "file_extension": ".py",
   "mimetype": "text/x-python",
   "name": "python",
   "nbconvert_exporter": "python",
   "pygments_lexer": "ipython3",
   "version": "3.6.12"
  }
 },
 "nbformat": 4,
 "nbformat_minor": 2
}
