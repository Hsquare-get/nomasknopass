{
 "cells": [
  {
   "cell_type": "code",
   "execution_count": 2,
   "metadata": {},
   "outputs": [],
   "source": [
    "# 설치가 필요한 패키지\n",
    "from selenium import webdriver\n",
    "from selenium.webdriver.support.ui import WebDriverWait\n",
    "from selenium.webdriver.common.keys import Keys\n",
    "from bs4 import BeautifulSoup\n",
    "import requests\n",
    "\n",
    "# 파이썬에 내장되어 있는 패키지\n",
    "import datetime as dt\n",
    "import os\n",
    "import zipfile   \n",
    "import shutil\n",
    "import time"
   ]
  },
  {
   "cell_type": "code",
   "execution_count": 3,
   "metadata": {},
   "outputs": [],
   "source": [
    "options = webdriver.ChromeOptions()\n",
    "mobile_emulation = {\"deviceName\": \"Nexus 5\"}\n",
    "options.add_experimental_option(\"mobileEmulation\", mobile_emulation)\n",
    "\n",
    "# 크롬 브라우저를 백그라운드 프로세스 형태로 실행시키고자 하는 경우 아래의 옵션도 추가한다.\n",
    "# options.add_argument('headless')\n",
    "# options.add_argument('window-size=1920x1080')\n",
    "# options.add_argument(\"disable-gpu\")"
   ]
  },
  {
   "cell_type": "markdown",
   "metadata": {},
   "source": [
    "## 크롬 브라우저 띄우기"
   ]
  },
  {
   "cell_type": "code",
   "execution_count": 20,
   "metadata": {},
   "outputs": [
    {
     "name": "stderr",
     "output_type": "stream",
     "text": [
      "C:\\Users\\LimSH\\anaconda3\\envs\\pydatavenv\\lib\\site-packages\\ipykernel_launcher.py:2: DeprecationWarning: use options instead of chrome_options\n",
      "  \n"
     ]
    }
   ],
   "source": [
    "# 맥이나 리눅스의 경우 파일 확장자가 없다. 윈도우의 경우 exe 확장자까지 명시해야 한다.\n",
    "driver = webdriver.Chrome('/Users/LimSH/Downloads/chromedriver_win32/chromedriver.exe', chrome_options=options)\n",
    "# 모든 동작마다 크롬브라우저가 준비될 때 까지 최대 5초씩 대기\n",
    "driver.implicitly_wait(5)\n",
    "\n",
    "###로그인 없이 바로 #턱스크 검색한 웹 브라우저 띄우는 경우###\n",
    "# 몇번 시도하면 막히는거 같음..\n",
    "# driver.get(\"https://www.instagram.com/explore/tags/턱스크\")\n",
    "# # 브라우저가 표시될 때 까지 3초간 프로그램 대기\n",
    "# time.sleep(3)"
   ]
  },
  {
   "cell_type": "markdown",
   "metadata": {},
   "source": [
    "## 로그인 & 턱스크 검색"
   ]
  },
  {
   "cell_type": "code",
   "execution_count": 21,
   "metadata": {},
   "outputs": [],
   "source": [
    "### 로그인 하는 경우 ###\n",
    "\n",
    "insta_url = 'https://www.instagram.com'\n",
    "driver.get(insta_url)\n",
    "time.sleep(3)\n",
    "\n",
    "# 개인 계정정보 입력 후 로그인\n",
    "login_button_element = driver.find_element_by_css_selector('#react-root > section > main > article > div > div > div > div:nth-child(2) > button')\n",
    "login_button_element.click()\n",
    "id_element = driver.find_element_by_css_selector('#loginForm > div.Igw0E.IwRSH.eGOV_._4EzTm.kEKum > div:nth-child(3) > div > label > input')\n",
    "id_element.send_keys('아이디')\n",
    "pw_element = driver.find_element_by_css_selector('#loginForm > div.Igw0E.IwRSH.eGOV_._4EzTm.kEKum > div:nth-child(4) > div > label > input')\n",
    "pw_element.send_keys('비밀번호')\n",
    "login_element = driver.find_element_by_css_selector('#loginForm > div.Igw0E.IwRSH.eGOV_._4EzTm.kEKum > div:nth-child(6) > button > div')\n",
    "login_element.click()\n",
    "driver.implicitly_wait(6)\n",
    "popup_element = driver.find_element_by_css_selector('#react-root > section > main > div > div > div > button')\n",
    "popup_element.click()\n",
    "driver.implicitly_wait(5)\n",
    "popup_element = driver.find_element_by_css_selector('body > div.RnEpo.Yx5HN > div > div > div > div.mt3GC > button.aOOlW.HoLwm')\n",
    "popup_element.click()\n",
    "\n",
    "# 해시태그(#턱스크) 검색\n",
    "search_element = driver.find_element_by_css_selector('#react-root > section > nav.NXc7H.f11OC > div > div > div.KGiwt > div > div > div:nth-child(2) > a > svg')\n",
    "search_element.click()\n",
    "search_element = driver.find_element_by_css_selector('#react-root > section > nav.gW4DF > div > header > div > h1 > div > div > div > div > label > input')\n",
    "search_element.send_keys('턱스크')\n",
    "choice_element = driver.find_element_by_css_selector('#react-root > section > main > div > div > ul > li:nth-child(1) > a > div')\n",
    "choice_element.click()"
   ]
  },
  {
   "cell_type": "markdown",
   "metadata": {},
   "source": [
    "## 이미지 가져와서 리스트에 저장"
   ]
  },
  {
   "cell_type": "code",
   "execution_count": null,
   "metadata": {},
   "outputs": [],
   "source": [
    "import urllib.request \n",
    "from urllib import parse \n",
    "from urllib.request import urlopen \n",
    "from bs4 import BeautifulSoup \n",
    "from selenium import webdriver \n",
    "import time \n",
    "import ssl\n",
    "\n",
    "count = 0\n",
    "img_list = []\n",
    "while True :\n",
    "    html = driver.page_source #driver의 페이지 소스를 가져와서 html 에 담음 \n",
    "    soup =BeautifulSoup(html)\n",
    "\n",
    "    insta = soup.select('.v1Nh3.kIKUG._bz0w') #이미지 파일이 들어있는 클래스(.으로 구분해준다) \n",
    "    print(len(insta))\n",
    "                \n",
    "    for i in insta :\n",
    "        imgUrl = i.select_one('.KL4Bh').img['src'] #이미지가 들어있는 태그의 실질적 img \n",
    "        img_list.append(imgUrl)\n",
    "        img_list = list(set(img_list)) #동일한 항목에 대한 중복제거\n",
    "        \n",
    "    try :\n",
    "        driver.execute_script(\"window.scrollTo(0, document.body.scrollHeight);\") #스크롤을 맨 아래로 이동\n",
    "        time.sleep(2)\n",
    "        count += 1\n",
    "    \n",
    "    except :        \n",
    "        break\n",
    "        \n",
    "print(\"End\")"
   ]
  },
  {
   "cell_type": "code",
   "execution_count": 23,
   "metadata": {},
   "outputs": [
    {
     "name": "stdout",
     "output_type": "stream",
     "text": [
      "1491\n"
     ]
    }
   ],
   "source": [
    "print(len(img_list))"
   ]
  },
  {
   "cell_type": "code",
   "execution_count": 25,
   "metadata": {},
   "outputs": [],
   "source": [
    "datetime = dt.datetime.now().strftime(\"%y%m%d_%H%M\")\n",
    "dirname = \"insta_%s\" % (datetime)"
   ]
  },
  {
   "cell_type": "code",
   "execution_count": 26,
   "metadata": {},
   "outputs": [],
   "source": [
    "user_agent = \"Mozilla/5.0 (Windows NT 10.0; Win64; x64) AppleWebKit/537.36 (KHTML, like Gecko) Chrome/77.0.3865.120 Safari/537.36\"\n",
    "session = requests.Session()\n",
    "session.headers.update( {'User-agent': user_agent, 'referer': None} )"
   ]
  },
  {
   "cell_type": "markdown",
   "metadata": {},
   "source": [
    "## 폴더 생성 & 이미지 저장"
   ]
  },
  {
   "cell_type": "code",
   "execution_count": null,
   "metadata": {},
   "outputs": [],
   "source": [
    "# 저장된 이미지 수를 카운트하기 위한 변수\n",
    "count = 0\n",
    "\n",
    "# 폴더 생성하기\n",
    "if not os.path.exists(dirname):\n",
    "    os.mkdir(dirname)\n",
    "\n",
    "# 이미지 URL수 만큼 반복\n",
    "for image_url in img_list:\n",
    "\n",
    "    count += 1\n",
    "\n",
    "    # 파일이 저장될 경로 생성\n",
    "    path = \"%s/%04d.jpg\" % (dirname, count)\n",
    "\n",
    "    # 예외처리를 동반한 이미지 다운로드\n",
    "    try:\n",
    "        # 이미지 주소를 다운로드를 위해 stream 모드로 가져온다.\n",
    "        r = session.get(image_url, stream=True)\n",
    "\n",
    "        # HTTP 상태코드가 성공을 의미하는 값이 아니라면 에러로 간주하고 except 블록으로 강제 이동\n",
    "        if r.status_code != 200:\n",
    "            raise Exception\n",
    "            \n",
    "        # 추출한 데이터를 바이너리(이진값) 쓰기 모드로 저장 -> 'wb'\n",
    "        with open(path, 'wb') as f:\n",
    "            f.write(r.raw.read())\n",
    "            print( \"[Ok] %s(이)가 저장되었습니다.\" % path )\n",
    "        \n",
    "    except:\n",
    "        # 이미지 다운로드 실패시 다음 이미지를 시도하기 위해 반복의 조건식으로 이동함\n",
    "        print( \"[Error] %s(은)는 저장에 실패했습니다.\" % path )\n",
    "        continue\n",
    "\n",
    "print('저장 완료')"
   ]
  }
 ],
 "metadata": {
  "kernelspec": {
   "display_name": "pydatavenv",
   "language": "python",
   "name": "pydatavenv"
  },
  "language_info": {
   "codemirror_mode": {
    "name": "ipython",
    "version": 3
   },
   "file_extension": ".py",
   "mimetype": "text/x-python",
   "name": "python",
   "nbconvert_exporter": "python",
   "pygments_lexer": "ipython3",
   "version": "3.7.9"
  }
 },
 "nbformat": 4,
 "nbformat_minor": 4
}
